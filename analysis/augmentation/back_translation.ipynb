{
 "cells": [
  {
   "attachments": {},
   "cell_type": "markdown",
   "metadata": {},
   "source": [
    "### 필요한 패키지 Import\n",
    "DataFrame의 내용을 생략없이 출력하려면 아래 주석처리한 부분의 주석을 해제하고 실행"
   ]
  },
  {
   "cell_type": "code",
   "execution_count": 1,
   "metadata": {},
   "outputs": [],
   "source": [
    "import json\n",
    "import os\n",
    "import sys\n",
    "import urllib.request\n",
    "\n",
    "from tqdm.auto import tqdm\n",
    "\n",
    "import numpy as np\n",
    "import pandas as pd\n",
    "\n",
    "from collections import Counter\n",
    "\n",
    "# pd.set_option('display.max_colwidth', None)"
   ]
  },
  {
   "attachments": {},
   "cell_type": "markdown",
   "metadata": {},
   "source": [
    "### 변수 정의"
   ]
  },
  {
   "cell_type": "code",
   "execution_count": 2,
   "metadata": {},
   "outputs": [],
   "source": [
    "DATAPATH = \"../../data/preprocessed/\"\n",
    "DATAFILE = os.path.join(DATAPATH, f\"train_g2p_removed_label_error_revised.csv\")\n",
    "SOURCE_DATA = pd.read_csv(DATAFILE)\n",
    "data = SOURCE_DATA.copy()"
   ]
  },
  {
   "attachments": {},
   "cell_type": "markdown",
   "metadata": {},
   "source": [
    "### 역번역 증강을 위한 API KEY, SECRET 정의"
   ]
  },
  {
   "cell_type": "code",
   "execution_count": 3,
   "metadata": {},
   "outputs": [],
   "source": [
    "with open(\"./papago_api_id.txt\", \"r\") as f:\n",
    "    CLIENT_ID_LIST = [line.rstrip() for line in f.readlines()]\n",
    "\n",
    "with open(\"./papago_api_secret.txt\", \"r\") as f:\n",
    "    CLIENT_SECRET_LIST = [line.rstrip() for line in f.readlines()]"
   ]
  },
  {
   "attachments": {},
   "cell_type": "markdown",
   "metadata": {},
   "source": [
    "### 번역을 수행하는 함수 정의"
   ]
  },
  {
   "cell_type": "code",
   "execution_count": 4,
   "metadata": {},
   "outputs": [],
   "source": [
    "def translate(sentence, source, target):\n",
    "    encText = urllib.parse.quote(sentence)\n",
    "    data = f\"source={source}&target={target}&text=\" + encText\n",
    "    url = \"https://openapi.naver.com/v1/papago/n2mt\"\n",
    "    request = urllib.request.Request(url)\n",
    "    for i, (id, secret) in enumerate(zip(CLIENT_ID_LIST, CLIENT_SECRET_LIST)):\n",
    "        try:\n",
    "            request.add_header(\"X-Naver-Client-Id\", id)\n",
    "            request.add_header(\"X-Naver-Client-Secret\", secret)\n",
    "            response = urllib.request.urlopen(request, data=data.encode(\"utf-8\"))\n",
    "            response_body = response.read()\n",
    "            translated_sentence = json.loads(response_body.decode(\"utf-8\"))[\"message\"][\"result\"][\"translatedText\"]\n",
    "            print(f\"{i} ID: {id}, SECRET: {secret} is now being used.\")\n",
    "            return translated_sentence\n",
    "        except:\n",
    "            pass"
   ]
  },
  {
   "cell_type": "code",
   "execution_count": 5,
   "metadata": {},
   "outputs": [
    {
     "name": "stdout",
     "output_type": "stream",
     "text": [
      "0 ID: NrWC1mlRvpcbnzNVLxjl, SECRET: HeQfm6ALBE is now being used.\n"
     ]
    },
    {
     "data": {
      "text/plain": [
       "'Use translated sentences to augment your data.'"
      ]
     },
     "execution_count": 5,
     "metadata": {},
     "output_type": "execute_result"
    }
   ],
   "source": [
    "translate(\"번역된 문장을 활용하여 데이터를 증강합니다.\", source=\"ko\", target=\"en\")"
   ]
  },
  {
   "cell_type": "code",
   "execution_count": 6,
   "metadata": {},
   "outputs": [
    {
     "name": "stdout",
     "output_type": "stream",
     "text": [
      "0 ID: NrWC1mlRvpcbnzNVLxjl, SECRET: HeQfm6ALBE is now being used.\n"
     ]
    },
    {
     "data": {
      "text/plain": [
       "'번역된 문장을 사용하여 데이터를 보강합니다.'"
      ]
     },
     "execution_count": 6,
     "metadata": {},
     "output_type": "execute_result"
    }
   ],
   "source": [
    "translate(\"Use translated sentences to augment your data.\", source=\"en\", target=\"ko\")"
   ]
  },
  {
   "attachments": {},
   "cell_type": "markdown",
   "metadata": {},
   "source": [
    "### 역번역을 적용하는 함수 정의\n",
    "\n",
    "원본 데이터의 `input_text`에 대하여 역번역을 수행하고, \\\n",
    "역번역된 텍스트를 원본 문장 대신 저장하는 함수 정의"
   ]
  },
  {
   "cell_type": "code",
   "execution_count": 7,
   "metadata": {},
   "outputs": [],
   "source": [
    "def back_translate(text):\n",
    "    translated = translate(text, source=\"ko\", target=\"en\")\n",
    "    back_translated = translate(translated, source=\"en\", target=\"ko\")\n",
    "    return back_translated"
   ]
  },
  {
   "attachments": {},
   "cell_type": "markdown",
   "metadata": {},
   "source": [
    "정의한 함수를 활용하여 역번역이 정상적으로 작동되며, 컬럼의 내용이 의도한 대로 변경되는지 확인한다."
   ]
  },
  {
   "cell_type": "code",
   "execution_count": 13,
   "metadata": {},
   "outputs": [
    {
     "data": {
      "text/html": [
       "<div>\n",
       "<style scoped>\n",
       "    .dataframe tbody tr th:only-of-type {\n",
       "        vertical-align: middle;\n",
       "    }\n",
       "\n",
       "    .dataframe tbody tr th {\n",
       "        vertical-align: top;\n",
       "    }\n",
       "\n",
       "    .dataframe thead th {\n",
       "        text-align: right;\n",
       "    }\n",
       "</style>\n",
       "<table border=\"1\" class=\"dataframe\">\n",
       "  <thead>\n",
       "    <tr style=\"text-align: right;\">\n",
       "      <th></th>\n",
       "      <th>ID</th>\n",
       "      <th>input_text</th>\n",
       "      <th>label_text</th>\n",
       "      <th>target</th>\n",
       "      <th>predefined_news_category</th>\n",
       "      <th>annotations</th>\n",
       "      <th>url</th>\n",
       "      <th>date</th>\n",
       "    </tr>\n",
       "  </thead>\n",
       "  <tbody>\n",
       "    <tr>\n",
       "      <th>0</th>\n",
       "      <td>ynat-v1_train_00000</td>\n",
       "      <td>유튜브 내달 2일까지 크리에이터 지원 공간 운영</td>\n",
       "      <td>생활문화</td>\n",
       "      <td>3</td>\n",
       "      <td>IT과학</td>\n",
       "      <td>{'annotators': ['08', '13', '07'], 'annotation...</td>\n",
       "      <td>https://news.naver.com/main/read.nhn?mode=LS2D...</td>\n",
       "      <td>2016.06.30. 오전 10:36</td>\n",
       "    </tr>\n",
       "    <tr>\n",
       "      <th>1</th>\n",
       "      <td>ynat-v1_train_00001</td>\n",
       "      <td>어버이날 맑다가 흐려져…남부지방 옅은 황사</td>\n",
       "      <td>생활문화</td>\n",
       "      <td>3</td>\n",
       "      <td>생활문화</td>\n",
       "      <td>{'annotators': ['14', '13', '07'], 'annotation...</td>\n",
       "      <td>https://news.naver.com/main/read.nhn?mode=LS2D...</td>\n",
       "      <td>2016.05.08. 오전 5:25</td>\n",
       "    </tr>\n",
       "    <tr>\n",
       "      <th>2</th>\n",
       "      <td>ynat-v1_train_00002</td>\n",
       "      <td>내년부터 국가RD 평가 때 논문건수는 반영 않는다</td>\n",
       "      <td>사회</td>\n",
       "      <td>2</td>\n",
       "      <td>IT과학</td>\n",
       "      <td>{'annotators': ['14', '13', '10'], 'annotation...</td>\n",
       "      <td>https://news.naver.com/main/read.nhn?mode=LS2D...</td>\n",
       "      <td>2016.03.15. 오후 12:00</td>\n",
       "    </tr>\n",
       "  </tbody>\n",
       "</table>\n",
       "</div>"
      ],
      "text/plain": [
       "                    ID                   input_text label_text  target  \\\n",
       "0  ynat-v1_train_00000   유튜브 내달 2일까지 크리에이터 지원 공간 운영       생활문화       3   \n",
       "1  ynat-v1_train_00001      어버이날 맑다가 흐려져…남부지방 옅은 황사       생활문화       3   \n",
       "2  ynat-v1_train_00002  내년부터 국가RD 평가 때 논문건수는 반영 않는다         사회       2   \n",
       "\n",
       "  predefined_news_category                                        annotations  \\\n",
       "0                     IT과학  {'annotators': ['08', '13', '07'], 'annotation...   \n",
       "1                     생활문화  {'annotators': ['14', '13', '07'], 'annotation...   \n",
       "2                     IT과학  {'annotators': ['14', '13', '10'], 'annotation...   \n",
       "\n",
       "                                                 url                  date  \n",
       "0  https://news.naver.com/main/read.nhn?mode=LS2D...  2016.06.30. 오전 10:36  \n",
       "1  https://news.naver.com/main/read.nhn?mode=LS2D...   2016.05.08. 오전 5:25  \n",
       "2  https://news.naver.com/main/read.nhn?mode=LS2D...  2016.03.15. 오후 12:00  "
      ]
     },
     "execution_count": 13,
     "metadata": {},
     "output_type": "execute_result"
    }
   ],
   "source": [
    "sample_data = data.iloc[:3]\n",
    "sample_data"
   ]
  },
  {
   "cell_type": "code",
   "execution_count": 9,
   "metadata": {},
   "outputs": [
    {
     "name": "stdout",
     "output_type": "stream",
     "text": [
      "0 ID: NrWC1mlRvpcbnzNVLxjl, SECRET: HeQfm6ALBE is now being used.\n",
      "0 ID: NrWC1mlRvpcbnzNVLxjl, SECRET: HeQfm6ALBE is now being used.\n",
      "0 ID: NrWC1mlRvpcbnzNVLxjl, SECRET: HeQfm6ALBE is now being used.\n",
      "0 ID: NrWC1mlRvpcbnzNVLxjl, SECRET: HeQfm6ALBE is now being used.\n",
      "0 ID: NrWC1mlRvpcbnzNVLxjl, SECRET: HeQfm6ALBE is now being used.\n",
      "0 ID: NrWC1mlRvpcbnzNVLxjl, SECRET: HeQfm6ALBE is now being used.\n"
     ]
    }
   ],
   "source": [
    "sample_data_back_translated = sample_data.assign(\n",
    "    input_text = sample_data[\"input_text\"].apply(back_translate)\n",
    ")"
   ]
  },
  {
   "cell_type": "code",
   "execution_count": 10,
   "metadata": {},
   "outputs": [
    {
     "data": {
      "text/html": [
       "<div>\n",
       "<style scoped>\n",
       "    .dataframe tbody tr th:only-of-type {\n",
       "        vertical-align: middle;\n",
       "    }\n",
       "\n",
       "    .dataframe tbody tr th {\n",
       "        vertical-align: top;\n",
       "    }\n",
       "\n",
       "    .dataframe thead th {\n",
       "        text-align: right;\n",
       "    }\n",
       "</style>\n",
       "<table border=\"1\" class=\"dataframe\">\n",
       "  <thead>\n",
       "    <tr style=\"text-align: right;\">\n",
       "      <th></th>\n",
       "      <th>ID</th>\n",
       "      <th>input_text</th>\n",
       "      <th>label_text</th>\n",
       "      <th>target</th>\n",
       "      <th>predefined_news_category</th>\n",
       "      <th>annotations</th>\n",
       "      <th>url</th>\n",
       "      <th>date</th>\n",
       "    </tr>\n",
       "  </thead>\n",
       "  <tbody>\n",
       "    <tr>\n",
       "      <th>0</th>\n",
       "      <td>ynat-v1_train_00000</td>\n",
       "      <td>유튜브 내달 2일까지 크리에이터 지원 공간 운영</td>\n",
       "      <td>생활문화</td>\n",
       "      <td>3</td>\n",
       "      <td>IT과학</td>\n",
       "      <td>{'annotators': ['08', '13', '07'], 'annotation...</td>\n",
       "      <td>https://news.naver.com/main/read.nhn?mode=LS2D...</td>\n",
       "      <td>2016.06.30. 오전 10:36</td>\n",
       "    </tr>\n",
       "    <tr>\n",
       "      <th>1</th>\n",
       "      <td>ynat-v1_train_00001</td>\n",
       "      <td>어버이날은 맑고 흐린 날씨야...남쪽의 옅은 황사</td>\n",
       "      <td>생활문화</td>\n",
       "      <td>3</td>\n",
       "      <td>생활문화</td>\n",
       "      <td>{'annotators': ['14', '13', '07'], 'annotation...</td>\n",
       "      <td>https://news.naver.com/main/read.nhn?mode=LS2D...</td>\n",
       "      <td>2016.05.08. 오전 5:25</td>\n",
       "    </tr>\n",
       "    <tr>\n",
       "      <th>2</th>\n",
       "      <td>ynat-v1_train_00002</td>\n",
       "      <td>논문 수는 내년부터 국가 RD평가에 반영되지 않는다</td>\n",
       "      <td>사회</td>\n",
       "      <td>2</td>\n",
       "      <td>IT과학</td>\n",
       "      <td>{'annotators': ['14', '13', '10'], 'annotation...</td>\n",
       "      <td>https://news.naver.com/main/read.nhn?mode=LS2D...</td>\n",
       "      <td>2016.03.15. 오후 12:00</td>\n",
       "    </tr>\n",
       "  </tbody>\n",
       "</table>\n",
       "</div>"
      ],
      "text/plain": [
       "                    ID                    input_text label_text  target  \\\n",
       "0  ynat-v1_train_00000    유튜브 내달 2일까지 크리에이터 지원 공간 운영       생활문화       3   \n",
       "1  ynat-v1_train_00001   어버이날은 맑고 흐린 날씨야...남쪽의 옅은 황사       생활문화       3   \n",
       "2  ynat-v1_train_00002  논문 수는 내년부터 국가 RD평가에 반영되지 않는다         사회       2   \n",
       "\n",
       "  predefined_news_category                                        annotations  \\\n",
       "0                     IT과학  {'annotators': ['08', '13', '07'], 'annotation...   \n",
       "1                     생활문화  {'annotators': ['14', '13', '07'], 'annotation...   \n",
       "2                     IT과학  {'annotators': ['14', '13', '10'], 'annotation...   \n",
       "\n",
       "                                                 url                  date  \n",
       "0  https://news.naver.com/main/read.nhn?mode=LS2D...  2016.06.30. 오전 10:36  \n",
       "1  https://news.naver.com/main/read.nhn?mode=LS2D...   2016.05.08. 오전 5:25  \n",
       "2  https://news.naver.com/main/read.nhn?mode=LS2D...  2016.03.15. 오후 12:00  "
      ]
     },
     "execution_count": 10,
     "metadata": {},
     "output_type": "execute_result"
    }
   ],
   "source": [
    "sample_data_back_translated"
   ]
  },
  {
   "cell_type": "code",
   "execution_count": 14,
   "metadata": {},
   "outputs": [
    {
     "data": {
      "text/html": [
       "<div>\n",
       "<style scoped>\n",
       "    .dataframe tbody tr th:only-of-type {\n",
       "        vertical-align: middle;\n",
       "    }\n",
       "\n",
       "    .dataframe tbody tr th {\n",
       "        vertical-align: top;\n",
       "    }\n",
       "\n",
       "    .dataframe thead th {\n",
       "        text-align: right;\n",
       "    }\n",
       "</style>\n",
       "<table border=\"1\" class=\"dataframe\">\n",
       "  <thead>\n",
       "    <tr style=\"text-align: right;\">\n",
       "      <th></th>\n",
       "      <th>ID</th>\n",
       "      <th>input_text</th>\n",
       "      <th>label_text</th>\n",
       "      <th>target</th>\n",
       "      <th>predefined_news_category</th>\n",
       "      <th>annotations</th>\n",
       "      <th>url</th>\n",
       "      <th>date</th>\n",
       "    </tr>\n",
       "  </thead>\n",
       "  <tbody>\n",
       "    <tr>\n",
       "      <th>0</th>\n",
       "      <td>True</td>\n",
       "      <td>True</td>\n",
       "      <td>True</td>\n",
       "      <td>True</td>\n",
       "      <td>True</td>\n",
       "      <td>True</td>\n",
       "      <td>True</td>\n",
       "      <td>True</td>\n",
       "    </tr>\n",
       "    <tr>\n",
       "      <th>1</th>\n",
       "      <td>True</td>\n",
       "      <td>False</td>\n",
       "      <td>True</td>\n",
       "      <td>True</td>\n",
       "      <td>True</td>\n",
       "      <td>True</td>\n",
       "      <td>True</td>\n",
       "      <td>True</td>\n",
       "    </tr>\n",
       "    <tr>\n",
       "      <th>2</th>\n",
       "      <td>True</td>\n",
       "      <td>False</td>\n",
       "      <td>True</td>\n",
       "      <td>True</td>\n",
       "      <td>True</td>\n",
       "      <td>True</td>\n",
       "      <td>True</td>\n",
       "      <td>True</td>\n",
       "    </tr>\n",
       "  </tbody>\n",
       "</table>\n",
       "</div>"
      ],
      "text/plain": [
       "     ID  input_text  label_text  target  predefined_news_category  \\\n",
       "0  True        True        True    True                      True   \n",
       "1  True       False        True    True                      True   \n",
       "2  True       False        True    True                      True   \n",
       "\n",
       "   annotations   url  date  \n",
       "0         True  True  True  \n",
       "1         True  True  True  \n",
       "2         True  True  True  "
      ]
     },
     "execution_count": 14,
     "metadata": {},
     "output_type": "execute_result"
    }
   ],
   "source": [
    "sample_data == sample_data_back_translated"
   ]
  },
  {
   "cell_type": "code",
   "execution_count": null,
   "metadata": {},
   "outputs": [],
   "source": []
  }
 ],
 "metadata": {
  "kernelspec": {
   "display_name": "Python 3",
   "language": "python",
   "name": "python3"
  },
  "language_info": {
   "codemirror_mode": {
    "name": "ipython",
    "version": 3
   },
   "file_extension": ".py",
   "mimetype": "text/x-python",
   "name": "python",
   "nbconvert_exporter": "python",
   "pygments_lexer": "ipython3",
   "version": "3.10.2"
  },
  "orig_nbformat": 4
 },
 "nbformat": 4,
 "nbformat_minor": 2
}

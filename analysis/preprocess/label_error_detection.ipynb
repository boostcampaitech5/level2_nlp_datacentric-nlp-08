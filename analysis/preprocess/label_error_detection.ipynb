{
 "cells": [
  {
   "attachments": {},
   "cell_type": "markdown",
   "metadata": {},
   "source": [
    "### 필요한 패키지 Import\n",
    "DataFrame의 내용을 생략없이 출력하려면 아래 주석처리한 부분의 주석을 해제하고 실행"
   ]
  },
  {
   "cell_type": "code",
   "execution_count": 1,
   "metadata": {},
   "outputs": [],
   "source": [
    "import os\n",
    "\n",
    "import numpy as np\n",
    "import pandas as pd\n",
    "\n",
    "from collections import Counter\n",
    "\n",
    "# pd.set_option('display.max_colwidth', None)"
   ]
  },
  {
   "attachments": {},
   "cell_type": "markdown",
   "metadata": {},
   "source": [
    "### 변수 정의"
   ]
  },
  {
   "cell_type": "code",
   "execution_count": 2,
   "metadata": {},
   "outputs": [],
   "source": [
    "DATAPATH = \"../../data/\"\n",
    "DATAFILE = os.path.join(DATAPATH, f\"train.csv\")\n",
    "SOURCE_DATA = pd.read_csv(DATAFILE)\n",
    "data = SOURCE_DATA.copy()"
   ]
  },
  {
   "attachments": {},
   "cell_type": "markdown",
   "metadata": {},
   "source": [
    "### Pandas 기본 기능을 이용하여 간단한 분석"
   ]
  },
  {
   "cell_type": "code",
   "execution_count": 3,
   "metadata": {},
   "outputs": [
    {
     "data": {
      "text/html": [
       "<div>\n",
       "<style scoped>\n",
       "    .dataframe tbody tr th:only-of-type {\n",
       "        vertical-align: middle;\n",
       "    }\n",
       "\n",
       "    .dataframe tbody tr th {\n",
       "        vertical-align: top;\n",
       "    }\n",
       "\n",
       "    .dataframe thead th {\n",
       "        text-align: right;\n",
       "    }\n",
       "</style>\n",
       "<table border=\"1\" class=\"dataframe\">\n",
       "  <thead>\n",
       "    <tr style=\"text-align: right;\">\n",
       "      <th></th>\n",
       "      <th>ID</th>\n",
       "      <th>input_text</th>\n",
       "      <th>label_text</th>\n",
       "      <th>target</th>\n",
       "      <th>predefined_news_category</th>\n",
       "      <th>annotations</th>\n",
       "      <th>url</th>\n",
       "      <th>date</th>\n",
       "    </tr>\n",
       "  </thead>\n",
       "  <tbody>\n",
       "    <tr>\n",
       "      <th>0</th>\n",
       "      <td>ynat-v1_train_00000</td>\n",
       "      <td>유튜브 내달 2일까지 크리에이터 지원 공간 운영</td>\n",
       "      <td>생활문화</td>\n",
       "      <td>3</td>\n",
       "      <td>IT과학</td>\n",
       "      <td>{'annotators': ['08', '13', '07'], 'annotation...</td>\n",
       "      <td>https://news.naver.com/main/read.nhn?mode=LS2D...</td>\n",
       "      <td>2016.06.30. 오전 10:36</td>\n",
       "    </tr>\n",
       "    <tr>\n",
       "      <th>1</th>\n",
       "      <td>ynat-v1_train_00001</td>\n",
       "      <td>어버이날 막따가 흐려저…남부지방 여튼 황사</td>\n",
       "      <td>생활문화</td>\n",
       "      <td>3</td>\n",
       "      <td>생활문화</td>\n",
       "      <td>{'annotators': ['14', '13', '07'], 'annotation...</td>\n",
       "      <td>https://news.naver.com/main/read.nhn?mode=LS2D...</td>\n",
       "      <td>2016.05.08. 오전 5:25</td>\n",
       "    </tr>\n",
       "    <tr>\n",
       "      <th>2</th>\n",
       "      <td>ynat-v1_train_00001</td>\n",
       "      <td>어버이날 맑다가 흐려져…남부지방 옅은 황사</td>\n",
       "      <td>생활문화</td>\n",
       "      <td>3</td>\n",
       "      <td>생활문화</td>\n",
       "      <td>{'annotators': ['14', '13', '07'], 'annotation...</td>\n",
       "      <td>https://news.naver.com/main/read.nhn?mode=LS2D...</td>\n",
       "      <td>2016.05.08. 오전 5:25</td>\n",
       "    </tr>\n",
       "    <tr>\n",
       "      <th>3</th>\n",
       "      <td>ynat-v1_train_00002</td>\n",
       "      <td>내년부터 국가RD 평가 때 논문건수는 반영 않는다</td>\n",
       "      <td>사회</td>\n",
       "      <td>2</td>\n",
       "      <td>IT과학</td>\n",
       "      <td>{'annotators': ['14', '13', '10'], 'annotation...</td>\n",
       "      <td>https://news.naver.com/main/read.nhn?mode=LS2D...</td>\n",
       "      <td>2016.03.15. 오후 12:00</td>\n",
       "    </tr>\n",
       "    <tr>\n",
       "      <th>4</th>\n",
       "      <td>ynat-v1_train_00003</td>\n",
       "      <td>김명자 신임 과총 회장 원로와 젊은 과학자 지혜 모을 것</td>\n",
       "      <td>사회</td>\n",
       "      <td>2</td>\n",
       "      <td>IT과학</td>\n",
       "      <td>{'annotators': ['16', '11', '15'], 'annotation...</td>\n",
       "      <td>https://news.naver.com/main/read.nhn?mode=LS2D...</td>\n",
       "      <td>2017.02.28. 오전 9:54</td>\n",
       "    </tr>\n",
       "  </tbody>\n",
       "</table>\n",
       "</div>"
      ],
      "text/plain": [
       "                    ID                       input_text label_text  target  \\\n",
       "0  ynat-v1_train_00000       유튜브 내달 2일까지 크리에이터 지원 공간 운영       생활문화       3   \n",
       "1  ynat-v1_train_00001          어버이날 막따가 흐려저…남부지방 여튼 황사       생활문화       3   \n",
       "2  ynat-v1_train_00001          어버이날 맑다가 흐려져…남부지방 옅은 황사       생활문화       3   \n",
       "3  ynat-v1_train_00002      내년부터 국가RD 평가 때 논문건수는 반영 않는다         사회       2   \n",
       "4  ynat-v1_train_00003  김명자 신임 과총 회장 원로와 젊은 과학자 지혜 모을 것         사회       2   \n",
       "\n",
       "  predefined_news_category                                        annotations  \\\n",
       "0                     IT과학  {'annotators': ['08', '13', '07'], 'annotation...   \n",
       "1                     생활문화  {'annotators': ['14', '13', '07'], 'annotation...   \n",
       "2                     생활문화  {'annotators': ['14', '13', '07'], 'annotation...   \n",
       "3                     IT과학  {'annotators': ['14', '13', '10'], 'annotation...   \n",
       "4                     IT과학  {'annotators': ['16', '11', '15'], 'annotation...   \n",
       "\n",
       "                                                 url                  date  \n",
       "0  https://news.naver.com/main/read.nhn?mode=LS2D...  2016.06.30. 오전 10:36  \n",
       "1  https://news.naver.com/main/read.nhn?mode=LS2D...   2016.05.08. 오전 5:25  \n",
       "2  https://news.naver.com/main/read.nhn?mode=LS2D...   2016.05.08. 오전 5:25  \n",
       "3  https://news.naver.com/main/read.nhn?mode=LS2D...  2016.03.15. 오후 12:00  \n",
       "4  https://news.naver.com/main/read.nhn?mode=LS2D...   2017.02.28. 오전 9:54  "
      ]
     },
     "execution_count": 3,
     "metadata": {},
     "output_type": "execute_result"
    }
   ],
   "source": [
    "data.head()"
   ]
  },
  {
   "cell_type": "code",
   "execution_count": 4,
   "metadata": {},
   "outputs": [
    {
     "name": "stdout",
     "output_type": "stream",
     "text": [
      "<class 'pandas.core.frame.DataFrame'>\n",
      "RangeIndex: 52530 entries, 0 to 52529\n",
      "Data columns (total 8 columns):\n",
      " #   Column                    Non-Null Count  Dtype \n",
      "---  ------                    --------------  ----- \n",
      " 0   ID                        52530 non-null  object\n",
      " 1   input_text                52530 non-null  object\n",
      " 2   label_text                52530 non-null  object\n",
      " 3   target                    52530 non-null  int64 \n",
      " 4   predefined_news_category  52530 non-null  object\n",
      " 5   annotations               52530 non-null  object\n",
      " 6   url                       52530 non-null  object\n",
      " 7   date                      52530 non-null  object\n",
      "dtypes: int64(1), object(7)\n",
      "memory usage: 3.2+ MB\n"
     ]
    }
   ],
   "source": [
    "data.info()"
   ]
  },
  {
   "cell_type": "code",
   "execution_count": 5,
   "metadata": {},
   "outputs": [
    {
     "data": {
      "text/html": [
       "<div>\n",
       "<style scoped>\n",
       "    .dataframe tbody tr th:only-of-type {\n",
       "        vertical-align: middle;\n",
       "    }\n",
       "\n",
       "    .dataframe tbody tr th {\n",
       "        vertical-align: top;\n",
       "    }\n",
       "\n",
       "    .dataframe thead th {\n",
       "        text-align: right;\n",
       "    }\n",
       "</style>\n",
       "<table border=\"1\" class=\"dataframe\">\n",
       "  <thead>\n",
       "    <tr style=\"text-align: right;\">\n",
       "      <th></th>\n",
       "      <th>target</th>\n",
       "    </tr>\n",
       "  </thead>\n",
       "  <tbody>\n",
       "    <tr>\n",
       "      <th>count</th>\n",
       "      <td>52530.000000</td>\n",
       "    </tr>\n",
       "    <tr>\n",
       "      <th>mean</th>\n",
       "      <td>3.048315</td>\n",
       "    </tr>\n",
       "    <tr>\n",
       "      <th>std</th>\n",
       "      <td>2.063432</td>\n",
       "    </tr>\n",
       "    <tr>\n",
       "      <th>min</th>\n",
       "      <td>0.000000</td>\n",
       "    </tr>\n",
       "    <tr>\n",
       "      <th>25%</th>\n",
       "      <td>1.000000</td>\n",
       "    </tr>\n",
       "    <tr>\n",
       "      <th>50%</th>\n",
       "      <td>3.000000</td>\n",
       "    </tr>\n",
       "    <tr>\n",
       "      <th>75%</th>\n",
       "      <td>5.000000</td>\n",
       "    </tr>\n",
       "    <tr>\n",
       "      <th>max</th>\n",
       "      <td>6.000000</td>\n",
       "    </tr>\n",
       "  </tbody>\n",
       "</table>\n",
       "</div>"
      ],
      "text/plain": [
       "             target\n",
       "count  52530.000000\n",
       "mean       3.048315\n",
       "std        2.063432\n",
       "min        0.000000\n",
       "25%        1.000000\n",
       "50%        3.000000\n",
       "75%        5.000000\n",
       "max        6.000000"
      ]
     },
     "execution_count": 5,
     "metadata": {},
     "output_type": "execute_result"
    }
   ],
   "source": [
    "data.describe()"
   ]
  },
  {
   "cell_type": "code",
   "execution_count": 6,
   "metadata": {},
   "outputs": [
    {
     "data": {
      "text/plain": [
       "array(['생활문화', '사회', 'IT과학', '스포츠', '세계', '정치', '경제'], dtype=object)"
      ]
     },
     "execution_count": 6,
     "metadata": {},
     "output_type": "execute_result"
    }
   ],
   "source": [
    "data.label_text.unique()"
   ]
  },
  {
   "cell_type": "code",
   "execution_count": 7,
   "metadata": {},
   "outputs": [],
   "source": [
    "label_dict = {\n",
    "    \"정치\": 0,\n",
    "    \"경제\": 1,\n",
    "    \"사회\": 2,\n",
    "    \"생활문화\": 3,\n",
    "    \"세계\": 4,\n",
    "    \"IT과학\": 5,\n",
    "    \"스포츠\": 6,\n",
    "}"
   ]
  },
  {
   "attachments": {},
   "cell_type": "markdown",
   "metadata": {},
   "source": [
    "### Label Error Detection\n",
    "\n",
    "1. 먼저 target과 label_text가 제대로 연결되지 않은 샘플이 존재하는지를 확인"
   ]
  },
  {
   "cell_type": "code",
   "execution_count": 9,
   "metadata": {},
   "outputs": [
    {
     "data": {
      "text/html": [
       "<div>\n",
       "<style scoped>\n",
       "    .dataframe tbody tr th:only-of-type {\n",
       "        vertical-align: middle;\n",
       "    }\n",
       "\n",
       "    .dataframe tbody tr th {\n",
       "        vertical-align: top;\n",
       "    }\n",
       "\n",
       "    .dataframe thead th {\n",
       "        text-align: right;\n",
       "    }\n",
       "</style>\n",
       "<table border=\"1\" class=\"dataframe\">\n",
       "  <thead>\n",
       "    <tr style=\"text-align: right;\">\n",
       "      <th></th>\n",
       "      <th>ID</th>\n",
       "      <th>input_text</th>\n",
       "      <th>label_text</th>\n",
       "      <th>target</th>\n",
       "      <th>predefined_news_category</th>\n",
       "      <th>annotations</th>\n",
       "      <th>url</th>\n",
       "      <th>date</th>\n",
       "    </tr>\n",
       "  </thead>\n",
       "  <tbody>\n",
       "  </tbody>\n",
       "</table>\n",
       "</div>"
      ],
      "text/plain": [
       "Empty DataFrame\n",
       "Columns: [ID, input_text, label_text, target, predefined_news_category, annotations, url, date]\n",
       "Index: []"
      ]
     },
     "execution_count": 9,
     "metadata": {},
     "output_type": "execute_result"
    }
   ],
   "source": [
    "mismatched_data = data[data[\"target\"] != data[\"label_text\"].map(label_dict)]\n",
    "mismatched_data"
   ]
  },
  {
   "attachments": {},
   "cell_type": "markdown",
   "metadata": {},
   "source": [
    "2. Annotation의 Voting 결과를 label이라고 생각했을 때, 제대로 연결되지 않은 샘플이 존재하는지 확인\n",
    "\n",
    "- 예를 들어, 특정 데이터의 annotations column이 다음과 같다고 하면, first-scope의 최빈값인 \"생활문화\"를 label이라고 간주. \\\n",
    "만약, first-scope의 모든 값이 다르면, second-scope의 최빈값을 label이라고 생각한다.\n",
    "\n",
    "```\n",
    "    annotations = {\n",
    "        \"annotators\": [\"08\", \"13\", \"07\"],\n",
    "        \"annotations\": {\n",
    "            \"first-scope\": [\"생활문화\", \"생활문화\", \"IT과학\"],\n",
    "            \"second-scope\": [\"IT과학\", \"해당없음\", \"해당없음\"],\n",
    "            \"third-scope\": [\"해당없음\", \"해당없음\", \"해당없음\"],\n",
    "        },\n",
    "    }\n",
    "\n",
    "```\n",
    "\n",
    "annotations 컬럼의 내용을 보면 dictionary의 형태를 띄지만, 실제 데이터 타입은 str이다. \\\n",
    "따라서 eval 함수를 사용하여 dictionary로써 동작하게 처리해준다. \\\n",
    "먼저, first-scope의 값이 모두 다른 경우가 있는지를 확인한다."
   ]
  },
  {
   "cell_type": "code",
   "execution_count": 11,
   "metadata": {},
   "outputs": [],
   "source": [
    "data = data.assign(\n",
    "    annotations = data[\"annotations\"].apply(eval),\n",
    ")"
   ]
  },
  {
   "cell_type": "code",
   "execution_count": 21,
   "metadata": {},
   "outputs": [],
   "source": [
    "for i in range(len(data)):\n",
    "    first_scope_list = data.iloc[i][\"annotations\"][\"annotations\"][\"first-scope\"]\n",
    "    if len(set(first_scope_list)) == 3:\n",
    "        print(set(first_scope_list))\n",
    "    # if len(set(first_scope_list)) == 2:\n",
    "    #     print(set(first_scope_list))\n",
    "    #     if i > 10:\n",
    "    #         break"
   ]
  },
  {
   "attachments": {},
   "cell_type": "markdown",
   "metadata": {},
   "source": [
    "First-scope의 값이 모두 다른 경우가 없다는 것을 확인하였다. \\\n",
    "(주석처리한 부분을 해제하여 실행해보면 코드가 정상작동함을 확인할 수 있음) \n",
    "\n",
    "즉, annotations dictionary에서 first-scope만 살펴보아도 label을 결정할 수 있다."
   ]
  },
  {
   "attachments": {},
   "cell_type": "markdown",
   "metadata": {},
   "source": [
    "### 함수를 정의하여 Label Error 발생 여부 확인\n",
    "\n",
    "`voting_result` 변수에 데이터의 annotations 컬럼에 나타난 first-scope의 최빈값을 저장하고, \\\n",
    "그 값이 해당 데이터의 Label값과 일치하는지를 확인한다.\n",
    "\n",
    "위에서 `target`과 `label_text`는 모두 제대로 연결되어 있음을 확인하였으니, 둘 중 하나와만 비교하면 될 것이다."
   ]
  },
  {
   "cell_type": "code",
   "execution_count": 22,
   "metadata": {},
   "outputs": [],
   "source": [
    "def check_label_error(data):\n",
    "    voting_result = Counter(data.annotations[\"annotations\"][\"first-scope\"]).most_common(1)[0][0]\n",
    "    return voting_result != data.label_text"
   ]
  },
  {
   "cell_type": "code",
   "execution_count": 23,
   "metadata": {},
   "outputs": [],
   "source": [
    "label_error_checked = data.copy()\n",
    "label_error_checked[\"label_error\"] = label_error_checked.apply(check_label_error, axis=1).apply(pd.Series)"
   ]
  },
  {
   "cell_type": "code",
   "execution_count": 24,
   "metadata": {},
   "outputs": [
    {
     "data": {
      "text/html": [
       "<div>\n",
       "<style scoped>\n",
       "    .dataframe tbody tr th:only-of-type {\n",
       "        vertical-align: middle;\n",
       "    }\n",
       "\n",
       "    .dataframe tbody tr th {\n",
       "        vertical-align: top;\n",
       "    }\n",
       "\n",
       "    .dataframe thead th {\n",
       "        text-align: right;\n",
       "    }\n",
       "</style>\n",
       "<table border=\"1\" class=\"dataframe\">\n",
       "  <thead>\n",
       "    <tr style=\"text-align: right;\">\n",
       "      <th></th>\n",
       "      <th>ID</th>\n",
       "      <th>input_text</th>\n",
       "      <th>label_text</th>\n",
       "      <th>target</th>\n",
       "      <th>predefined_news_category</th>\n",
       "      <th>annotations</th>\n",
       "      <th>url</th>\n",
       "      <th>date</th>\n",
       "      <th>label_error</th>\n",
       "    </tr>\n",
       "  </thead>\n",
       "  <tbody>\n",
       "    <tr>\n",
       "      <th>54</th>\n",
       "      <td>ynat-v1_train_00049</td>\n",
       "      <td>반민특위 임무 아직 끝나지 않았다</td>\n",
       "      <td>경제</td>\n",
       "      <td>1</td>\n",
       "      <td>생활문화</td>\n",
       "      <td>{'annotators': ['11', '07', '16'], 'annotation...</td>\n",
       "      <td>https://news.naver.com/main/read.nhn?mode=LS2D...</td>\n",
       "      <td>2019.06.03. 오후 4:11</td>\n",
       "      <td>True</td>\n",
       "    </tr>\n",
       "    <tr>\n",
       "      <th>120</th>\n",
       "      <td>ynat-v1_train_00109</td>\n",
       "      <td>서울에 다시 오존주의보…도심·서북·동북권 발령종합</td>\n",
       "      <td>IT과학</td>\n",
       "      <td>5</td>\n",
       "      <td>생활문화</td>\n",
       "      <td>{'annotators': ['03', '14', '13'], 'annotation...</td>\n",
       "      <td>https://news.naver.com/main/read.nhn?mode=LS2D...</td>\n",
       "      <td>2018.07.27. 오후 3:41</td>\n",
       "      <td>True</td>\n",
       "    </tr>\n",
       "    <tr>\n",
       "      <th>281</th>\n",
       "      <td>ynat-v1_train_00250</td>\n",
       "      <td>트럼프·엡스타인 1992년 마러라고서 여성 20여명과 파티</td>\n",
       "      <td>정치</td>\n",
       "      <td>0</td>\n",
       "      <td>세계</td>\n",
       "      <td>{'annotators': ['09', '18', '11'], 'annotation...</td>\n",
       "      <td>https://news.naver.com/main/read.nhn?mode=LS2D...</td>\n",
       "      <td>2019.07.11. 오전 6:18</td>\n",
       "      <td>True</td>\n",
       "    </tr>\n",
       "    <tr>\n",
       "      <th>362</th>\n",
       "      <td>ynat-v1_train_00316</td>\n",
       "      <td>예스24 우리가 사랑한 24인의 작가들 부산서 전시</td>\n",
       "      <td>경제</td>\n",
       "      <td>1</td>\n",
       "      <td>생활문화</td>\n",
       "      <td>{'annotators': ['02', '15', '12'], 'annotation...</td>\n",
       "      <td>https://news.naver.com/main/read.nhn?mode=LS2D...</td>\n",
       "      <td>2018.01.08. 오전 10:48</td>\n",
       "      <td>True</td>\n",
       "    </tr>\n",
       "    <tr>\n",
       "      <th>393</th>\n",
       "      <td>ynat-v1_train_00341</td>\n",
       "      <td>현대모비스 3연속 100점대 대승…삼성 만난 라건아 39점</td>\n",
       "      <td>사회</td>\n",
       "      <td>2</td>\n",
       "      <td>스포츠</td>\n",
       "      <td>{'annotators': ['18', '02', '03'], 'annotation...</td>\n",
       "      <td>https://sports.news.naver.com/news.nhn?oid=001...</td>\n",
       "      <td>2018.10.19 21:53</td>\n",
       "      <td>True</td>\n",
       "    </tr>\n",
       "    <tr>\n",
       "      <th>...</th>\n",
       "      <td>...</td>\n",
       "      <td>...</td>\n",
       "      <td>...</td>\n",
       "      <td>...</td>\n",
       "      <td>...</td>\n",
       "      <td>...</td>\n",
       "      <td>...</td>\n",
       "      <td>...</td>\n",
       "      <td>...</td>\n",
       "    </tr>\n",
       "    <tr>\n",
       "      <th>52218</th>\n",
       "      <td>ynat-v1_train_45399</td>\n",
       "      <td>1승 11패 한국 여자배구 VNL 5주차서 벼랑 끝...</td>\n",
       "      <td>정치</td>\n",
       "      <td>0</td>\n",
       "      <td>스포츠</td>\n",
       "      <td>{'annotators': ['07', '02', '10'], 'annotation...</td>\n",
       "      <td>https://sports.news.naver.com/news.nhn?oid=001...</td>\n",
       "      <td>2019.06.16 06:44</td>\n",
       "      <td>True</td>\n",
       "    </tr>\n",
       "    <tr>\n",
       "      <th>52262</th>\n",
       "      <td>ynat-v1_train_45436</td>\n",
       "      <td>美 수배받은 콜롬비아 최대 반군 전 사령관 의원으로 취임</td>\n",
       "      <td>경제</td>\n",
       "      <td>1</td>\n",
       "      <td>세계</td>\n",
       "      <td>{'annotators': ['02', '13', '09'], 'annotation...</td>\n",
       "      <td>https://news.naver.com/main/read.nhn?mode=LS2D...</td>\n",
       "      <td>2019.06.12. 오전 4:51</td>\n",
       "      <td>True</td>\n",
       "    </tr>\n",
       "    <tr>\n",
       "      <th>52302</th>\n",
       "      <td>ynat-v1_train_45472</td>\n",
       "      <td>11월 전국 주택 매매가 상승폭 둔화…일부 광역시는 강세</td>\n",
       "      <td>스포츠</td>\n",
       "      <td>6</td>\n",
       "      <td>경제</td>\n",
       "      <td>{'annotators': ['07', '02', '13'], 'annotation...</td>\n",
       "      <td>https://news.naver.com/main/read.nhn?mode=LS2D...</td>\n",
       "      <td>2018.12.03. 오전 11:49</td>\n",
       "      <td>True</td>\n",
       "    </tr>\n",
       "    <tr>\n",
       "      <th>52373</th>\n",
       "      <td>ynat-v1_train_45535</td>\n",
       "      <td>수원 아시아 4강 이끈 특급 선방 신화용 분석·조언의 힘</td>\n",
       "      <td>경제</td>\n",
       "      <td>1</td>\n",
       "      <td>스포츠</td>\n",
       "      <td>{'annotators': ['11', '14', '10'], 'annotation...</td>\n",
       "      <td>https://sports.news.naver.com/news.nhn?oid=001...</td>\n",
       "      <td>2018.09.19 22:38</td>\n",
       "      <td>True</td>\n",
       "    </tr>\n",
       "    <tr>\n",
       "      <th>52506</th>\n",
       "      <td>ynat-v1_train_45655</td>\n",
       "      <td>필리핀 두테르테 눈엣가시 언론인 마리아 레사 체포돼</td>\n",
       "      <td>정치</td>\n",
       "      <td>0</td>\n",
       "      <td>세계</td>\n",
       "      <td>{'annotators': ['10', '07', '16'], 'annotation...</td>\n",
       "      <td>https://news.naver.com/main/read.nhn?mode=LS2D...</td>\n",
       "      <td>2019.02.13. 오후 8:16</td>\n",
       "      <td>True</td>\n",
       "    </tr>\n",
       "  </tbody>\n",
       "</table>\n",
       "<p>1371 rows × 9 columns</p>\n",
       "</div>"
      ],
      "text/plain": [
       "                        ID                        input_text label_text  \\\n",
       "54     ynat-v1_train_00049                반민특위 임무 아직 끝나지 않았다         경제   \n",
       "120    ynat-v1_train_00109       서울에 다시 오존주의보…도심·서북·동북권 발령종합       IT과학   \n",
       "281    ynat-v1_train_00250  트럼프·엡스타인 1992년 마러라고서 여성 20여명과 파티         정치   \n",
       "362    ynat-v1_train_00316      예스24 우리가 사랑한 24인의 작가들 부산서 전시         경제   \n",
       "393    ynat-v1_train_00341  현대모비스 3연속 100점대 대승…삼성 만난 라건아 39점         사회   \n",
       "...                    ...                               ...        ...   \n",
       "52218  ynat-v1_train_45399   1승 11패 한국 여자배구 VNL 5주차서 벼랑 끝...         정치   \n",
       "52262  ynat-v1_train_45436   美 수배받은 콜롬비아 최대 반군 전 사령관 의원으로 취임         경제   \n",
       "52302  ynat-v1_train_45472   11월 전국 주택 매매가 상승폭 둔화…일부 광역시는 강세        스포츠   \n",
       "52373  ynat-v1_train_45535   수원 아시아 4강 이끈 특급 선방 신화용 분석·조언의 힘         경제   \n",
       "52506  ynat-v1_train_45655      필리핀 두테르테 눈엣가시 언론인 마리아 레사 체포돼         정치   \n",
       "\n",
       "       target predefined_news_category  \\\n",
       "54          1                     생활문화   \n",
       "120         5                     생활문화   \n",
       "281         0                       세계   \n",
       "362         1                     생활문화   \n",
       "393         2                      스포츠   \n",
       "...       ...                      ...   \n",
       "52218       0                      스포츠   \n",
       "52262       1                       세계   \n",
       "52302       6                       경제   \n",
       "52373       1                      스포츠   \n",
       "52506       0                       세계   \n",
       "\n",
       "                                             annotations  \\\n",
       "54     {'annotators': ['11', '07', '16'], 'annotation...   \n",
       "120    {'annotators': ['03', '14', '13'], 'annotation...   \n",
       "281    {'annotators': ['09', '18', '11'], 'annotation...   \n",
       "362    {'annotators': ['02', '15', '12'], 'annotation...   \n",
       "393    {'annotators': ['18', '02', '03'], 'annotation...   \n",
       "...                                                  ...   \n",
       "52218  {'annotators': ['07', '02', '10'], 'annotation...   \n",
       "52262  {'annotators': ['02', '13', '09'], 'annotation...   \n",
       "52302  {'annotators': ['07', '02', '13'], 'annotation...   \n",
       "52373  {'annotators': ['11', '14', '10'], 'annotation...   \n",
       "52506  {'annotators': ['10', '07', '16'], 'annotation...   \n",
       "\n",
       "                                                     url  \\\n",
       "54     https://news.naver.com/main/read.nhn?mode=LS2D...   \n",
       "120    https://news.naver.com/main/read.nhn?mode=LS2D...   \n",
       "281    https://news.naver.com/main/read.nhn?mode=LS2D...   \n",
       "362    https://news.naver.com/main/read.nhn?mode=LS2D...   \n",
       "393    https://sports.news.naver.com/news.nhn?oid=001...   \n",
       "...                                                  ...   \n",
       "52218  https://sports.news.naver.com/news.nhn?oid=001...   \n",
       "52262  https://news.naver.com/main/read.nhn?mode=LS2D...   \n",
       "52302  https://news.naver.com/main/read.nhn?mode=LS2D...   \n",
       "52373  https://sports.news.naver.com/news.nhn?oid=001...   \n",
       "52506  https://news.naver.com/main/read.nhn?mode=LS2D...   \n",
       "\n",
       "                       date  label_error  \n",
       "54      2019.06.03. 오후 4:11         True  \n",
       "120     2018.07.27. 오후 3:41         True  \n",
       "281     2019.07.11. 오전 6:18         True  \n",
       "362    2018.01.08. 오전 10:48         True  \n",
       "393        2018.10.19 21:53         True  \n",
       "...                     ...          ...  \n",
       "52218      2019.06.16 06:44         True  \n",
       "52262   2019.06.12. 오전 4:51         True  \n",
       "52302  2018.12.03. 오전 11:49         True  \n",
       "52373      2018.09.19 22:38         True  \n",
       "52506   2019.02.13. 오후 8:16         True  \n",
       "\n",
       "[1371 rows x 9 columns]"
      ]
     },
     "execution_count": 24,
     "metadata": {},
     "output_type": "execute_result"
    }
   ],
   "source": [
    "label_error_checked[label_error_checked[\"label_error\"] == True]"
   ]
  },
  {
   "attachments": {},
   "cell_type": "markdown",
   "metadata": {},
   "source": [
    "AI Stages의 학습데이터 설명을 보면 다음과 같이 나와 있다.\n",
    "> 노이즈 데이터의 경우 전체 학습 데이터의 15%(총 6,852개)에 해당합니다. noise data 중 80%(5,481개)는 G2P를 이용한 text perturbation으로 생성되었으며, prescriptive pronunciation과 descriptive pronunciation을 1:1 비율로 사용하였 noise를 생성하였습니다. 나머지 20%(1,371개)는 labeling 오류로 만들어진 데이터 입니다.\n",
    "\n",
    "실제로 `annotations`의 최빈값과 `label_text`가 다른 데이터의 개수가 1371개임을 위에서 확인하였다. \\\n",
    "따라서 label error에 대한 데이터는 모두 검출한 셈이다.\n",
    "\n",
    "이제 label error를 갖는 데이터를 모두 교정해주어야 한다.\n",
    "\n",
    "###  Error Revise 수행"
   ]
  },
  {
   "cell_type": "code",
   "execution_count": 35,
   "metadata": {},
   "outputs": [
    {
     "data": {
      "text/html": [
       "<div>\n",
       "<style scoped>\n",
       "    .dataframe tbody tr th:only-of-type {\n",
       "        vertical-align: middle;\n",
       "    }\n",
       "\n",
       "    .dataframe tbody tr th {\n",
       "        vertical-align: top;\n",
       "    }\n",
       "\n",
       "    .dataframe thead th {\n",
       "        text-align: right;\n",
       "    }\n",
       "</style>\n",
       "<table border=\"1\" class=\"dataframe\">\n",
       "  <thead>\n",
       "    <tr style=\"text-align: right;\">\n",
       "      <th></th>\n",
       "      <th>ID</th>\n",
       "      <th>input_text</th>\n",
       "      <th>label_text</th>\n",
       "      <th>target</th>\n",
       "      <th>predefined_news_category</th>\n",
       "      <th>annotations</th>\n",
       "      <th>url</th>\n",
       "      <th>date</th>\n",
       "      <th>label_error</th>\n",
       "    </tr>\n",
       "  </thead>\n",
       "  <tbody>\n",
       "    <tr>\n",
       "      <th>53</th>\n",
       "      <td>ynat-v1_train_00049</td>\n",
       "      <td>반민특위 임무 아직 끝나지 않았다</td>\n",
       "      <td>사회</td>\n",
       "      <td>2</td>\n",
       "      <td>생활문화</td>\n",
       "      <td>{'annotators': ['11', '07', '16'], 'annotation...</td>\n",
       "      <td>https://news.naver.com/main/read.nhn?mode=LS2D...</td>\n",
       "      <td>2019.06.03. 오후 4:11</td>\n",
       "      <td>False</td>\n",
       "    </tr>\n",
       "    <tr>\n",
       "      <th>54</th>\n",
       "      <td>ynat-v1_train_00049</td>\n",
       "      <td>반민특위 임무 아직 끝나지 않았다</td>\n",
       "      <td>경제</td>\n",
       "      <td>1</td>\n",
       "      <td>생활문화</td>\n",
       "      <td>{'annotators': ['11', '07', '16'], 'annotation...</td>\n",
       "      <td>https://news.naver.com/main/read.nhn?mode=LS2D...</td>\n",
       "      <td>2019.06.03. 오후 4:11</td>\n",
       "      <td>True</td>\n",
       "    </tr>\n",
       "  </tbody>\n",
       "</table>\n",
       "</div>"
      ],
      "text/plain": [
       "                     ID          input_text label_text  target  \\\n",
       "53  ynat-v1_train_00049  반민특위 임무 아직 끝나지 않았다         사회       2   \n",
       "54  ynat-v1_train_00049  반민특위 임무 아직 끝나지 않았다         경제       1   \n",
       "\n",
       "   predefined_news_category  \\\n",
       "53                     생활문화   \n",
       "54                     생활문화   \n",
       "\n",
       "                                          annotations  \\\n",
       "53  {'annotators': ['11', '07', '16'], 'annotation...   \n",
       "54  {'annotators': ['11', '07', '16'], 'annotation...   \n",
       "\n",
       "                                                  url                 date  \\\n",
       "53  https://news.naver.com/main/read.nhn?mode=LS2D...  2019.06.03. 오후 4:11   \n",
       "54  https://news.naver.com/main/read.nhn?mode=LS2D...  2019.06.03. 오후 4:11   \n",
       "\n",
       "    label_error  \n",
       "53        False  \n",
       "54         True  "
      ]
     },
     "execution_count": 35,
     "metadata": {},
     "output_type": "execute_result"
    }
   ],
   "source": [
    "label_error_checked[label_error_checked[\"input_text\"] == label_error_checked.iloc[54][\"input_text\"]]"
   ]
  },
  {
   "cell_type": "code",
   "execution_count": 30,
   "metadata": {},
   "outputs": [],
   "source": [
    "def revise_label_error(data):\n",
    "    voting_result = Counter(data[\"annotations\"][\"first-scope\"]).most_common(1)[0][0]\n",
    "    return voting_result"
   ]
  },
  {
   "cell_type": "code",
   "execution_count": 37,
   "metadata": {},
   "outputs": [],
   "source": [
    "label_error_revised = data.copy()\n",
    "label_error_revised[\"label_text\"] = data[\"annotations\"].apply(revise_label_error)\n",
    "label_error_revised[\"target\"] = label_error_revised[\"label_text\"].map(label_dict)"
   ]
  },
  {
   "attachments": {},
   "cell_type": "markdown",
   "metadata": {},
   "source": [
    "참고로, label error에 의한 증강을 적용한 것이므로, 이를 교정하면 중복되는 아래와 같이 데이터가 존재하게 되는 것이다. \\\n",
    "따라서 이에 대한 처리는 별도로 해주어야 한다."
   ]
  },
  {
   "cell_type": "code",
   "execution_count": 38,
   "metadata": {},
   "outputs": [
    {
     "data": {
      "text/html": [
       "<div>\n",
       "<style scoped>\n",
       "    .dataframe tbody tr th:only-of-type {\n",
       "        vertical-align: middle;\n",
       "    }\n",
       "\n",
       "    .dataframe tbody tr th {\n",
       "        vertical-align: top;\n",
       "    }\n",
       "\n",
       "    .dataframe thead th {\n",
       "        text-align: right;\n",
       "    }\n",
       "</style>\n",
       "<table border=\"1\" class=\"dataframe\">\n",
       "  <thead>\n",
       "    <tr style=\"text-align: right;\">\n",
       "      <th></th>\n",
       "      <th>ID</th>\n",
       "      <th>input_text</th>\n",
       "      <th>label_text</th>\n",
       "      <th>target</th>\n",
       "      <th>predefined_news_category</th>\n",
       "      <th>annotations</th>\n",
       "      <th>url</th>\n",
       "      <th>date</th>\n",
       "    </tr>\n",
       "  </thead>\n",
       "  <tbody>\n",
       "    <tr>\n",
       "      <th>53</th>\n",
       "      <td>ynat-v1_train_00049</td>\n",
       "      <td>반민특위 임무 아직 끝나지 않았다</td>\n",
       "      <td>사회</td>\n",
       "      <td>2</td>\n",
       "      <td>생활문화</td>\n",
       "      <td>{'annotators': ['11', '07', '16'], 'annotation...</td>\n",
       "      <td>https://news.naver.com/main/read.nhn?mode=LS2D...</td>\n",
       "      <td>2019.06.03. 오후 4:11</td>\n",
       "    </tr>\n",
       "    <tr>\n",
       "      <th>54</th>\n",
       "      <td>ynat-v1_train_00049</td>\n",
       "      <td>반민특위 임무 아직 끝나지 않았다</td>\n",
       "      <td>사회</td>\n",
       "      <td>2</td>\n",
       "      <td>생활문화</td>\n",
       "      <td>{'annotators': ['11', '07', '16'], 'annotation...</td>\n",
       "      <td>https://news.naver.com/main/read.nhn?mode=LS2D...</td>\n",
       "      <td>2019.06.03. 오후 4:11</td>\n",
       "    </tr>\n",
       "  </tbody>\n",
       "</table>\n",
       "</div>"
      ],
      "text/plain": [
       "                     ID          input_text label_text  target  \\\n",
       "53  ynat-v1_train_00049  반민특위 임무 아직 끝나지 않았다         사회       2   \n",
       "54  ynat-v1_train_00049  반민특위 임무 아직 끝나지 않았다         사회       2   \n",
       "\n",
       "   predefined_news_category  \\\n",
       "53                     생활문화   \n",
       "54                     생활문화   \n",
       "\n",
       "                                          annotations  \\\n",
       "53  {'annotators': ['11', '07', '16'], 'annotation...   \n",
       "54  {'annotators': ['11', '07', '16'], 'annotation...   \n",
       "\n",
       "                                                  url                 date  \n",
       "53  https://news.naver.com/main/read.nhn?mode=LS2D...  2019.06.03. 오후 4:11  \n",
       "54  https://news.naver.com/main/read.nhn?mode=LS2D...  2019.06.03. 오후 4:11  "
      ]
     },
     "execution_count": 38,
     "metadata": {},
     "output_type": "execute_result"
    }
   ],
   "source": [
    "label_error_revised[label_error_checked[\"input_text\"] == label_error_revised.iloc[54][\"input_text\"]]"
   ]
  },
  {
   "cell_type": "code",
   "execution_count": 39,
   "metadata": {},
   "outputs": [
    {
     "data": {
      "text/plain": [
       "ID                          True\n",
       "input_text                  True\n",
       "label_text                  True\n",
       "target                      True\n",
       "predefined_news_category    True\n",
       "annotations                 True\n",
       "url                         True\n",
       "date                        True\n",
       "dtype: bool"
      ]
     },
     "execution_count": 39,
     "metadata": {},
     "output_type": "execute_result"
    }
   ],
   "source": [
    "label_error_revised.iloc[53] == label_error_revised.iloc[54]"
   ]
  },
  {
   "attachments": {},
   "cell_type": "markdown",
   "metadata": {},
   "source": [
    "### Label Error가 수정되었는지 최종 확인\n",
    "Label error revision이 정상적으로 수행되었는지, 다시 한 번 label error를 확인한다. \\\n",
    "아래 코드를 실행하면 빈 데이터프레임이 출력되므로 정상적으로 수행되었음을 알 수 있다."
   ]
  },
  {
   "cell_type": "code",
   "execution_count": 40,
   "metadata": {},
   "outputs": [
    {
     "data": {
      "text/html": [
       "<div>\n",
       "<style scoped>\n",
       "    .dataframe tbody tr th:only-of-type {\n",
       "        vertical-align: middle;\n",
       "    }\n",
       "\n",
       "    .dataframe tbody tr th {\n",
       "        vertical-align: top;\n",
       "    }\n",
       "\n",
       "    .dataframe thead th {\n",
       "        text-align: right;\n",
       "    }\n",
       "</style>\n",
       "<table border=\"1\" class=\"dataframe\">\n",
       "  <thead>\n",
       "    <tr style=\"text-align: right;\">\n",
       "      <th></th>\n",
       "      <th>ID</th>\n",
       "      <th>input_text</th>\n",
       "      <th>label_text</th>\n",
       "      <th>target</th>\n",
       "      <th>predefined_news_category</th>\n",
       "      <th>annotations</th>\n",
       "      <th>url</th>\n",
       "      <th>date</th>\n",
       "      <th>label_error</th>\n",
       "    </tr>\n",
       "  </thead>\n",
       "  <tbody>\n",
       "  </tbody>\n",
       "</table>\n",
       "</div>"
      ],
      "text/plain": [
       "Empty DataFrame\n",
       "Columns: [ID, input_text, label_text, target, predefined_news_category, annotations, url, date, label_error]\n",
       "Index: []"
      ]
     },
     "execution_count": 40,
     "metadata": {},
     "output_type": "execute_result"
    }
   ],
   "source": [
    "label_error_checked = label_error_revised.copy()\n",
    "label_error_checked[\"label_error\"] = label_error_checked.apply(check_label_error, axis=1).apply(pd.Series)\n",
    "label_error_checked[label_error_checked[\"label_error\"] == True]"
   ]
  },
  {
   "attachments": {},
   "cell_type": "markdown",
   "metadata": {},
   "source": [
    "### Label Error를 수정한 csv 파일을 저장\n",
    "\n",
    "중복 데이터에 대한 처리는 별도로 하고, 우선 레이블 에러만을 교정한 파일을 따로 저장해준다."
   ]
  },
  {
   "cell_type": "code",
   "execution_count": 41,
   "metadata": {},
   "outputs": [],
   "source": [
    "label_error_revised.to_csv(\"../../data/preprocessed/train_label_error_revised.csv\", index=False)"
   ]
  }
 ],
 "metadata": {
  "kernelspec": {
   "display_name": "Python 3",
   "language": "python",
   "name": "python3"
  },
  "language_info": {
   "codemirror_mode": {
    "name": "ipython",
    "version": 3
   },
   "file_extension": ".py",
   "mimetype": "text/x-python",
   "name": "python",
   "nbconvert_exporter": "python",
   "pygments_lexer": "ipython3",
   "version": "3.10.2"
  },
  "orig_nbformat": 4
 },
 "nbformat": 4,
 "nbformat_minor": 2
}

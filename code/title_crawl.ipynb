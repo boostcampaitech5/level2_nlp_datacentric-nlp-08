{
 "cells": [
  {
   "cell_type": "code",
   "execution_count": 22,
   "metadata": {},
   "outputs": [],
   "source": [
    "import pandas as pd\n",
    "\n",
    "train_df = pd.read_csv(\"../data/train.csv\")\n",
    "urls = train_df[\"url\"]\n",
    "title_text = train_df[\"text\"]"
   ]
  },
  {
   "cell_type": "code",
   "execution_count": null,
   "metadata": {},
   "outputs": [],
   "source": [
    "from urllib import request\n",
    "from bs4 import BeautifulSoup\n",
    "import re\n",
    "from tqdm import tqdm\n",
    "\n",
    "# 전처리 할 특수 기호\n",
    "pattern_punctuation = re.compile(r\"[,!\\\"#&'()+\\-/:<=>?@\\[\\]_`}{~]\")\n",
    "# 크롤링한 기사 제목\n",
    "title_list = []\n",
    "\n",
    "for url in tqdm(urls):\n",
    "    try:\n",
    "        html = request.urlopen(url)\n",
    "        bsObject = BeautifulSoup(html, \"html.parser\")\n",
    "        if bsObject.body.h2.span:\n",
    "            title = bsObject.body.h2.span.string\n",
    "            title = pattern_punctuation.sub('', title)\n",
    "            title_list.append(title)\n",
    "        else:\n",
    "            title = bsObject.body.h4.string\n",
    "            title = pattern_punctuation.sub('', title)\n",
    "            title_list.append(title)\n",
    "    except Exception as e:\n",
    "        print(f\"{e=}\")\n",
    "        print(f\"{url=}\")\n",
    "        title_list.append(\"\")"
   ]
  },
  {
   "cell_type": "code",
   "execution_count": 25,
   "metadata": {},
   "outputs": [],
   "source": [
    "import os\n",
    "\n",
    "result = pd.DataFrame(title_list)\n",
    "result.columns=[\"text\"]\n",
    "os.makedirs(\"../preprocess\", exist_ok=True)\n",
    "result.to_csv(\"../preprocess/crawling.csv\", index=False)"
   ]
  },
  {
   "cell_type": "code",
   "execution_count": 27,
   "metadata": {},
   "outputs": [],
   "source": [
    "for index, row in result.iterrows():\n",
    "    if row[\"text\"] != \"\":\n",
    "        train_df.loc[index, \"text\"] = row[\"text\"]\n",
    "\n",
    "train_df.to_csv(\"../preprocess/cleansing_train.csv\", index=False)"
   ]
  }
 ],
 "metadata": {
  "kernelspec": {
   "display_name": "Python 3.8.5 ('base')",
   "language": "python",
   "name": "python3"
  },
  "language_info": {
   "codemirror_mode": {
    "name": "ipython",
    "version": 3
   },
   "file_extension": ".py",
   "mimetype": "text/x-python",
   "name": "python",
   "nbconvert_exporter": "python",
   "pygments_lexer": "ipython3",
   "version": "3.8.5"
  },
  "orig_nbformat": 4,
  "vscode": {
   "interpreter": {
    "hash": "d4d1e4263499bec80672ea0156c357c1ee493ec2b1c70f0acce89fc37c4a6abe"
   }
  }
 },
 "nbformat": 4,
 "nbformat_minor": 2
}
